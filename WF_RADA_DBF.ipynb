{
  "nbformat": 4,
  "nbformat_minor": 0,
  "metadata": {
    "colab": {
      "name": "WF_RADA_DBF.ipynb",
      "provenance": [],
      "collapsed_sections": []
    },
    "kernelspec": {
      "name": "python3",
      "display_name": "Python 3"
    },
    "language_info": {
      "name": "python"
    }
  },
  "cells": [
    {
      "cell_type": "code",
      "metadata": {
        "id": "Lm74KvgZox6P",
        "colab": {
          "base_uri": "https://localhost:8080/"
        },
        "outputId": "33cc9dd1-d31f-4af3-d422-0d23b49f8c8b"
      },
      "source": [
        "# Downloading DBF Read dependencies\n",
        "!pip install dbfread"
      ],
      "execution_count": null,
      "outputs": [
        {
          "output_type": "stream",
          "text": [
            "Requirement already satisfied: dbfread in /usr/local/lib/python3.7/dist-packages (2.0.7)\n"
          ],
          "name": "stdout"
        }
      ]
    },
    {
      "cell_type": "markdown",
      "metadata": {
        "id": "GXVS9r2HkXe1"
      },
      "source": [
        "# Converting DBFs to CSVs"
      ]
    },
    {
      "cell_type": "code",
      "metadata": {
        "id": "Qm-YNzcsoeqq",
        "colab": {
          "base_uri": "https://localhost:8080/"
        },
        "outputId": "4ccf3553-c9fd-43b9-eb27-712bd2eb89fa"
      },
      "source": [
        "import pandas as pd\n",
        "from dbfread import DBF\n",
        "from google.colab import drive\n",
        "drive.mount('/content/drive')"
      ],
      "execution_count": null,
      "outputs": [
        {
          "output_type": "stream",
          "text": [
            "Drive already mounted at /content/drive; to attempt to forcibly remount, call drive.mount(\"/content/drive\", force_remount=True).\n"
          ],
          "name": "stdout"
        }
      ]
    },
    {
      "cell_type": "code",
      "metadata": {
        "colab": {
          "resources": {
            "http://localhost:8080/nbextensions/google.colab/files.js": {
              "data": "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",
              "ok": true,
              "headers": [
                [
                  "content-type",
                  "application/javascript"
                ]
              ],
              "status": 200,
              "status_text": ""
            }
          },
          "base_uri": "https://localhost:8080/",
          "height": 72
        },
        "id": "reCcFUxgpnmk",
        "outputId": "7ac8f68f-92fa-41e4-a3db-729d79397369"
      },
      "source": [
        "# Uploads DBF files to Google colab \n",
        "from google.colab import files\n",
        "uploaded = files.upload()"
      ],
      "execution_count": null,
      "outputs": [
        {
          "output_type": "display_data",
          "data": {
            "text/html": [
              "\n",
              "     <input type=\"file\" id=\"files-9c91627e-8238-4735-a539-31ebdbd15232\" name=\"files[]\" multiple disabled\n",
              "        style=\"border:none\" />\n",
              "     <output id=\"result-9c91627e-8238-4735-a539-31ebdbd15232\">\n",
              "      Upload widget is only available when the cell has been executed in the\n",
              "      current browser session. Please rerun this cell to enable.\n",
              "      </output>\n",
              "      <script src=\"/nbextensions/google.colab/files.js\"></script> "
            ],
            "text/plain": [
              "<IPython.core.display.HTML object>"
            ]
          },
          "metadata": {
            "tags": []
          }
        },
        {
          "output_type": "stream",
          "text": [
            "Saving MENU.DBF to MENU.DBF\n"
          ],
          "name": "stdout"
        }
      ]
    },
    {
      "cell_type": "code",
      "metadata": {
        "id": "qHWrOQXForgm"
      },
      "source": [
        "# # Convert DBF files to pandas DF\n",
        "# sdet_dbf = DBF('./SDET0421.DBF')\n",
        "# sdet_df = pd.DataFrame(iter(sdet_dbf))\n",
        "\n",
        "# sls_dbf = DBF('./SLS0421.DBF')\n",
        "# sls_df = pd.DataFrame(iter(sls_dbf))\n",
        "\n",
        "# pages_dbf = DBF('./PAGES.DBF', encoding = \"ISO-8859-1\")\n",
        "# pages_df = pd.DataFrame(iter(pages_dbf))\n",
        "\n",
        "# menu_dbf = DBF('./MENU.DBF', encoding = \"ISO-8859-1\")\n",
        "# menu_df = pd.DataFrame(iter(menu_dbf))\n",
        "\n",
        "# pagetype_dbf = DBF('./PAGETYPE.DBF')\n",
        "# pagetype_df = pd.DataFrame(iter(pagetype_dbf))\n",
        "\n",
        "# revcent_dbf = DBF('./REVCENT.DBF')\n",
        "# revcent_df = pd.DataFrame(iter(revcent_dbf))\n",
        "\n",
        "# tipopag_dbf = DBF('./TIPOPAG.DBF')\n",
        "# tipopag_df = pd.DataFrame(iter(tipopag_dbf))"
      ],
      "execution_count": null,
      "outputs": []
    },
    {
      "cell_type": "code",
      "metadata": {
        "id": "O6WiIKpSi2dJ"
      },
      "source": [
        "# # Printing DF\n",
        "# menu_df.head()"
      ],
      "execution_count": null,
      "outputs": []
    },
    {
      "cell_type": "code",
      "metadata": {
        "id": "kmm58Woui3eC"
      },
      "source": [
        "# Stores the dataframe as a csv in the TEMP Google Drive filesystem\n",
        "# sdet_df.to_csv('SDET0421.csv')\n",
        "# sls_df.to_csv('SLS0421.csv')\n",
        "# pages_df.to_csv('PAGES.csv')\n",
        "# menu_df.to_csv('MENU.csv')\n",
        "# pagetype_df.to_csv('PAGETYPE.csv')\n",
        "# revcent_df.to_csv('REVCENT.csv')\n",
        "# tipopag_df.to_csv('TIPOPAG.csv')"
      ],
      "execution_count": null,
      "outputs": []
    },
    {
      "cell_type": "code",
      "metadata": {
        "id": "JfiCF1cdUE3u"
      },
      "source": [
        "# # Stores the dataframes as a csv in Shared Drive folder\n",
        "\n",
        "# sdet_df.to_csv('/content/drive/Shareddrives/Project Sunday/csv_converted_files/WF_RADA/0421/SDET0421.csv')\n",
        "# sls_df.to_csv('/content/drive/Shareddrives/Project Sunday/csv_converted_files/WF_RADA/0421/SLS0421.csv')\n",
        "# pages_df.to_csv('/content/drive/Shareddrives/Project Sunday/csv_converted_files/WF_RADA/0421/PAGES.csv')\n",
        "# menu_df.to_csv('/content/drive/Shareddrives/Project Sunday/csv_converted_files/WF_RADA/0421/MENU.csv')\n",
        "# pagetype_df.to_csv('/content/drive/Shareddrives/Project Sunday/csv_converted_files/WF_RADA/0421/PAGETYPE.csv')\n",
        "# revcent_df.to_csv('/content/drive/Shareddrives/Project Sunday/csv_converted_files/WF_RADA/0421/REVCENT.csv')\n",
        "# tipopag_df.to_csv('/content/drive/Shareddrives/Project Sunday/csv_converted_files/WF_RADA/0421/TIPOPAG.csv')"
      ],
      "execution_count": null,
      "outputs": []
    },
    {
      "cell_type": "markdown",
      "metadata": {
        "id": "P_sqoxpYTuBu"
      },
      "source": [
        "## Creating Sales Reports for WF Rada\n",
        "Start here if you don't want to convert DBFs"
      ]
    },
    {
      "cell_type": "code",
      "metadata": {
        "id": "OduaqxGIcEBP",
        "colab": {
          "base_uri": "https://localhost:8080/"
        },
        "outputId": "7934bb6b-c9ad-4eb6-ae50-bb0de0440a84"
      },
      "source": [
        "# Reads csv's from GDrive\n",
        "# NOTE: this is specifically connected to Ivan's GDrive path. Still need to make Shared GDrive\n",
        "# sdet_df_wf_rada = pd.read_csv('/content/drive/MyDrive/3 Projects/Project Sunday/csv_landingzone/WF RADA/0421/SDET0421.csv', index_col='Unnamed: 0')\n",
        "# sls_df_wf_rada = pd.read_csv('/content/drive/MyDrive/3 Projects/Project Sunday/csv_landingzone/WF RADA/0421/SLS0421.csv', index_col='Unnamed: 0')\n",
        "# pages_df_wf_rada = pd.read_csv('/content/drive/MyDrive/3 Projects/Project Sunday/csv_landingzone/WF RADA/0421/PAGES.csv', index_col='Unnamed: 0')\n",
        "# menu_df_wf_rada = pd.read_csv('/content/drive/MyDrive/3 Projects/Project Sunday/csv_landingzone/WF RADA/0421/MENU.csv', index_col='Unnamed: 0')\n",
        "# pagetype_df_wf_rada = pd.read_csv('/content/drive/MyDrive/3 Projects/Project Sunday/csv_landingzone/WF RADA/0421/PAGETYPE.csv', index_col='Unnamed: 0')\n",
        "# revcent_df_wf_rada = pd.read_csv('/content/drive/MyDrive/3 Projects/Project Sunday/csv_landingzone/WF RADA/0421/REVCENT.csv', index_col='Unnamed: 0')\n",
        "# tipopag_df_wf_rada = pd.read_csv('/content/drive/MyDrive/3 Projects/Project Sunday/csv_landingzone/WF RADA/0421/TIPOPAG.csv', index_col='Unnamed: 0')\n",
        "\n",
        "sdet_df_wf_rada = pd.read_csv('/content/drive/Shareddrives/Project Sunday/csv_converted_files/WF_RADA/0421/SDET0421.csv', index_col='Unnamed: 0')\n",
        "sls_df_wf_rada = pd.read_csv('/content/drive/Shareddrives/Project Sunday/csv_converted_files/WF_RADA/0421/SLS0421.csv', index_col='Unnamed: 0')\n",
        "pages_df_wf_rada = pd.read_csv('/content/drive/Shareddrives/Project Sunday/csv_converted_files/WF_RADA/0421/PAGES.csv', index_col='Unnamed: 0')\n",
        "menu_df_wf_rada = pd.read_csv('/content/drive/Shareddrives/Project Sunday/csv_converted_files/WF_RADA/0421/MENU.csv', index_col='Unnamed: 0')\n",
        "pagetype_df_wf_rada = pd.read_csv('/content/drive/Shareddrives/Project Sunday/csv_converted_files/WF_RADA/0421/PAGETYPE.csv', index_col='Unnamed: 0')\n",
        "revcent_df_wf_rada = pd.read_csv('/content/drive/Shareddrives/Project Sunday/csv_converted_files/WF_RADA/0421/REVCENT.csv', index_col='Unnamed: 0')\n",
        "tipopag_df_wf_rada = pd.read_csv('/content/drive/Shareddrives/Project Sunday/csv_converted_files/WF_RADA/0421/TIPOPAG.csv', index_col='Unnamed: 0')"
      ],
      "execution_count": null,
      "outputs": [
        {
          "output_type": "stream",
          "text": [
            "/usr/local/lib/python3.7/dist-packages/IPython/core/interactiveshell.py:2718: DtypeWarning: Columns (35,39,56,58,61,78,79,81) have mixed types.Specify dtype option on import or set low_memory=False.\n",
            "  interactivity=interactivity, compiler=compiler, result=result)\n"
          ],
          "name": "stderr"
        }
      ]
    },
    {
      "cell_type": "code",
      "metadata": {
        "id": "BOsMJYeWd4FZ",
        "colab": {
          "base_uri": "https://localhost:8080/",
          "height": 309
        },
        "outputId": "b2c93586-c1b6-441c-d705-ea3c9f5e84de"
      },
      "source": [
        "# Checking contents of files\n",
        "sdet_df_wf_rada.head()"
      ],
      "execution_count": null,
      "outputs": [
        {
          "output_type": "execute_result",
          "data": {
            "text/html": [
              "<div>\n",
              "<style scoped>\n",
              "    .dataframe tbody tr th:only-of-type {\n",
              "        vertical-align: middle;\n",
              "    }\n",
              "\n",
              "    .dataframe tbody tr th {\n",
              "        vertical-align: top;\n",
              "    }\n",
              "\n",
              "    .dataframe thead th {\n",
              "        text-align: right;\n",
              "    }\n",
              "</style>\n",
              "<table border=\"1\" class=\"dataframe\">\n",
              "  <thead>\n",
              "    <tr style=\"text-align: right;\">\n",
              "      <th></th>\n",
              "      <th>BILL_NO</th>\n",
              "      <th>REF_NO</th>\n",
              "      <th>QUANTY</th>\n",
              "      <th>PRICE_PAID</th>\n",
              "      <th>RAW_PRICE</th>\n",
              "      <th>COST</th>\n",
              "      <th>POSTED</th>\n",
              "      <th>EMP_NO</th>\n",
              "      <th>DEL_CODE</th>\n",
              "      <th>PRC_ADJ</th>\n",
              "      <th>TWO4ONE</th>\n",
              "      <th>DISC_NO</th>\n",
              "      <th>PRC_LVL</th>\n",
              "      <th>PRC_LVL0</th>\n",
              "      <th>ISCOUPON</th>\n",
              "      <th>ITEM_ADJ</th>\n",
              "      <th>VAT_ADJ</th>\n",
              "      <th>DISC_ADJ</th>\n",
              "      <th>PRICEMULT</th>\n",
              "      <th>INVMULT</th>\n",
              "      <th>GD_NO</th>\n",
              "      <th>SEND_TIME</th>\n",
              "      <th>ADJ_NO</th>\n",
              "      <th>REFUNDFLAG</th>\n",
              "      <th>COU_REC</th>\n",
              "      <th>COUPITEM</th>\n",
              "      <th>HASH_STAT</th>\n",
              "      <th>ORD_DATE</th>\n",
              "      <th>ORD_TIME</th>\n",
              "      <th>SPEC_INST</th>\n",
              "      <th>MODOF</th>\n",
              "      <th>MODSCREEN</th>\n",
              "      <th>SQLSTATE</th>\n",
              "    </tr>\n",
              "  </thead>\n",
              "  <tbody>\n",
              "    <tr>\n",
              "      <th>0</th>\n",
              "      <td>316064</td>\n",
              "      <td>633</td>\n",
              "      <td>1.0</td>\n",
              "      <td>84.82</td>\n",
              "      <td>84.82</td>\n",
              "      <td>0.0</td>\n",
              "      <td>False</td>\n",
              "      <td>407</td>\n",
              "      <td>0</td>\n",
              "      <td>False</td>\n",
              "      <td>False</td>\n",
              "      <td>0</td>\n",
              "      <td>1</td>\n",
              "      <td>1</td>\n",
              "      <td>False</td>\n",
              "      <td>NaN</td>\n",
              "      <td>-10.18</td>\n",
              "      <td>NaN</td>\n",
              "      <td>1.0</td>\n",
              "      <td>1.0</td>\n",
              "      <td>0</td>\n",
              "      <td>07:30:32</td>\n",
              "      <td>0</td>\n",
              "      <td>False</td>\n",
              "      <td>0</td>\n",
              "      <td>False</td>\n",
              "      <td>0</td>\n",
              "      <td>2021-04-01</td>\n",
              "      <td>07:30:27</td>\n",
              "      <td>NaN</td>\n",
              "      <td>0</td>\n",
              "      <td>0</td>\n",
              "      <td>0</td>\n",
              "    </tr>\n",
              "    <tr>\n",
              "      <th>1</th>\n",
              "      <td>316064</td>\n",
              "      <td>646</td>\n",
              "      <td>1.0</td>\n",
              "      <td>84.82</td>\n",
              "      <td>84.82</td>\n",
              "      <td>0.0</td>\n",
              "      <td>False</td>\n",
              "      <td>407</td>\n",
              "      <td>0</td>\n",
              "      <td>False</td>\n",
              "      <td>False</td>\n",
              "      <td>0</td>\n",
              "      <td>1</td>\n",
              "      <td>1</td>\n",
              "      <td>False</td>\n",
              "      <td>NaN</td>\n",
              "      <td>-10.18</td>\n",
              "      <td>NaN</td>\n",
              "      <td>1.0</td>\n",
              "      <td>1.0</td>\n",
              "      <td>0</td>\n",
              "      <td>07:30:32</td>\n",
              "      <td>0</td>\n",
              "      <td>False</td>\n",
              "      <td>0</td>\n",
              "      <td>False</td>\n",
              "      <td>0</td>\n",
              "      <td>2021-04-01</td>\n",
              "      <td>07:30:31</td>\n",
              "      <td>NaN</td>\n",
              "      <td>0</td>\n",
              "      <td>0</td>\n",
              "      <td>0</td>\n",
              "    </tr>\n",
              "    <tr>\n",
              "      <th>2</th>\n",
              "      <td>316065</td>\n",
              "      <td>8106</td>\n",
              "      <td>1.0</td>\n",
              "      <td>125.00</td>\n",
              "      <td>125.00</td>\n",
              "      <td>0.0</td>\n",
              "      <td>False</td>\n",
              "      <td>407</td>\n",
              "      <td>0</td>\n",
              "      <td>False</td>\n",
              "      <td>False</td>\n",
              "      <td>0</td>\n",
              "      <td>1</td>\n",
              "      <td>1</td>\n",
              "      <td>False</td>\n",
              "      <td>NaN</td>\n",
              "      <td>-15.00</td>\n",
              "      <td>NaN</td>\n",
              "      <td>1.0</td>\n",
              "      <td>1.0</td>\n",
              "      <td>0</td>\n",
              "      <td>07:36:08</td>\n",
              "      <td>0</td>\n",
              "      <td>False</td>\n",
              "      <td>0</td>\n",
              "      <td>False</td>\n",
              "      <td>0</td>\n",
              "      <td>2021-04-01</td>\n",
              "      <td>07:36:02</td>\n",
              "      <td>NaN</td>\n",
              "      <td>0</td>\n",
              "      <td>0</td>\n",
              "      <td>0</td>\n",
              "    </tr>\n",
              "    <tr>\n",
              "      <th>3</th>\n",
              "      <td>316065</td>\n",
              "      <td>652</td>\n",
              "      <td>1.0</td>\n",
              "      <td>138.39</td>\n",
              "      <td>138.39</td>\n",
              "      <td>0.0</td>\n",
              "      <td>False</td>\n",
              "      <td>407</td>\n",
              "      <td>0</td>\n",
              "      <td>False</td>\n",
              "      <td>False</td>\n",
              "      <td>0</td>\n",
              "      <td>1</td>\n",
              "      <td>1</td>\n",
              "      <td>False</td>\n",
              "      <td>NaN</td>\n",
              "      <td>-16.61</td>\n",
              "      <td>NaN</td>\n",
              "      <td>1.0</td>\n",
              "      <td>1.0</td>\n",
              "      <td>0</td>\n",
              "      <td>07:36:08</td>\n",
              "      <td>0</td>\n",
              "      <td>False</td>\n",
              "      <td>0</td>\n",
              "      <td>False</td>\n",
              "      <td>0</td>\n",
              "      <td>2021-04-01</td>\n",
              "      <td>07:36:07</td>\n",
              "      <td>NaN</td>\n",
              "      <td>0</td>\n",
              "      <td>0</td>\n",
              "      <td>0</td>\n",
              "    </tr>\n",
              "    <tr>\n",
              "      <th>4</th>\n",
              "      <td>316066</td>\n",
              "      <td>814</td>\n",
              "      <td>1.0</td>\n",
              "      <td>138.39</td>\n",
              "      <td>138.39</td>\n",
              "      <td>0.0</td>\n",
              "      <td>False</td>\n",
              "      <td>407</td>\n",
              "      <td>0</td>\n",
              "      <td>False</td>\n",
              "      <td>False</td>\n",
              "      <td>0</td>\n",
              "      <td>1</td>\n",
              "      <td>1</td>\n",
              "      <td>False</td>\n",
              "      <td>NaN</td>\n",
              "      <td>-16.61</td>\n",
              "      <td>NaN</td>\n",
              "      <td>1.0</td>\n",
              "      <td>1.0</td>\n",
              "      <td>0</td>\n",
              "      <td>07:52:30</td>\n",
              "      <td>0</td>\n",
              "      <td>False</td>\n",
              "      <td>0</td>\n",
              "      <td>False</td>\n",
              "      <td>0</td>\n",
              "      <td>2021-04-01</td>\n",
              "      <td>07:52:20</td>\n",
              "      <td>NaN</td>\n",
              "      <td>0</td>\n",
              "      <td>0</td>\n",
              "      <td>0</td>\n",
              "    </tr>\n",
              "  </tbody>\n",
              "</table>\n",
              "</div>"
            ],
            "text/plain": [
              "   BILL_NO  REF_NO  QUANTY  PRICE_PAID  ...  SPEC_INST  MODOF  MODSCREEN  SQLSTATE\n",
              "0   316064     633     1.0       84.82  ...        NaN      0          0         0\n",
              "1   316064     646     1.0       84.82  ...        NaN      0          0         0\n",
              "2   316065    8106     1.0      125.00  ...        NaN      0          0         0\n",
              "3   316065     652     1.0      138.39  ...        NaN      0          0         0\n",
              "4   316066     814     1.0      138.39  ...        NaN      0          0         0\n",
              "\n",
              "[5 rows x 33 columns]"
            ]
          },
          "metadata": {
            "tags": []
          },
          "execution_count": 19
        }
      ]
    },
    {
      "cell_type": "markdown",
      "metadata": {
        "id": "Sg9WwWwDgMxj"
      },
      "source": [
        "### I. Sales by Group\n",
        "Features:\n",
        "1. **ORD_DATE**: date item was ordered (SDET)\n",
        "2. **REF_NO**: item number (MENU/SDET)\n",
        "3. **DESCRIPT**: indicates item name (MENU)\n",
        "4. **PAGE_NUM**: group number (PAGES/MENU)\n",
        "5. **PAGE_NAME**: indicates group name (PAGES)\n",
        "6. **RAW_PRICE-VAT_ADJ**: Sales + VAT (SDET)"
      ]
    },
    {
      "cell_type": "code",
      "metadata": {
        "id": "5nG6plG7eQk0"
      },
      "source": [
        "# First step: let's study each of the needed DataFrames\n",
        "sdet_df_wf_rada"
      ],
      "execution_count": null,
      "outputs": []
    },
    {
      "cell_type": "code",
      "metadata": {
        "id": "0YbKhDCmieqx"
      },
      "source": [
        "menu_df_wf_rada.head()"
      ],
      "execution_count": null,
      "outputs": []
    },
    {
      "cell_type": "code",
      "metadata": {
        "id": "oqXpz5b_ihQR"
      },
      "source": [
        "pages_df_wf_rada.head()"
      ],
      "execution_count": null,
      "outputs": []
    },
    {
      "cell_type": "code",
      "metadata": {
        "id": "KHGj9rrZisqn"
      },
      "source": [
        "# Taking only ORD_DATE and REF_NO from SDET DataFrame\n",
        "group_sales_sdet = sdet_df_wf_rada[['ORD_DATE', 'REF_NO']]\n",
        "\n",
        "# Creating RAW_PRICE-VAT_ADJ from SDET columns\n",
        "group_sales_sdet['SALES_VAT'] = sdet_df_wf_rada['RAW_PRICE'] + sdet_df_wf_rada['VAT_ADJ']\n",
        "\n",
        "group_sales_sdet"
      ],
      "execution_count": null,
      "outputs": []
    },
    {
      "cell_type": "code",
      "metadata": {
        "id": "bduYsHCTk4I9"
      },
      "source": [
        "# Joining the MENU table with the SDET table\n",
        "group_sales_df = pd.merge(group_sales_sdet, menu_df_wf_rada, how=\"left\", on=[\"REF_NO\"])\n",
        "# Only taking these columns\n",
        "group_sales_df = group_sales_df[['ORD_DATE', 'REF_NO', 'DESCRIPT', 'PAGE_NUM', 'SALES_VAT']]\n",
        "# Joining MENU + SDET with PAGES\n",
        "group_sales_df = pd.merge(group_sales_df, pages_df_wf_rada, how='left', on=['PAGE_NUM'])\n",
        "# Only taking these columns\n",
        "group_sales_df = group_sales_df[['ORD_DATE', 'REF_NO', 'DESCRIPT', 'PAGE_NUM', 'PAGE_NAME', 'SALES_VAT']]\n",
        "\n",
        "group_sales_df.head()"
      ],
      "execution_count": null,
      "outputs": []
    },
    {
      "cell_type": "markdown",
      "metadata": {
        "id": "LTZCyVB8oHzJ"
      },
      "source": [
        "## II. Sales by Revenue Center\n",
        "1. **DATE**: Date of Bill (SLS)\n",
        "2. **BILL_NO**: Bill number of the transaction (SLS)\n",
        "3. **REV_CENTER**: Revenue Center Number (SLS/REVCENT)\n",
        "4. **RC_NAME**: Revenue Center Name (REVCENT)\n",
        "5. **RECEIVED**: Total payment for bills (SLS)"
      ]
    },
    {
      "cell_type": "code",
      "metadata": {
        "id": "EnJhZJ3KmJNS"
      },
      "source": [
        "# Let's study the DataFrames again\n",
        "sls_df_wf_rada.head()"
      ],
      "execution_count": null,
      "outputs": []
    },
    {
      "cell_type": "code",
      "metadata": {
        "id": "cMRjJ45amKku"
      },
      "source": [
        "revcent_df_wf_rada.head()"
      ],
      "execution_count": null,
      "outputs": []
    },
    {
      "cell_type": "code",
      "metadata": {
        "id": "etLAgwQemjzx"
      },
      "source": [
        "rc_sales_sls = sls_df_wf_rada[['DATE', 'BILL_NO', 'RECEIVED', 'REV_CENTER']]\n",
        "# Merging SLS and REVCENT\n",
        "rc_sales_df = pd.merge(rc_sales_sls, revcent_df_wf_rada, how=\"left\", on=[\"REV_CENTER\"])\n",
        "# Only taking these columns\n",
        "rc_sales_df = rc_sales_df[['DATE', 'BILL_NO', 'REV_CENTER', 'RC_NAME', 'RECEIVED']]\n",
        "rc_sales_df.head(10)"
      ],
      "execution_count": null,
      "outputs": []
    },
    {
      "cell_type": "code",
      "metadata": {
        "id": "EHdvm7eus7RL"
      },
      "source": [
        "# NOTE: This is a repeat of what's above. I just added TAXES\n",
        "rc_sales_sls = sls_df_wf_rada[['DATE', 'BILL_NO', 'RECEIVED', 'REV_CENTER', 'TAXES']]\n",
        "\n",
        "rc_sales_df = pd.merge(rc_sales_sls, revcent_df_wf_rada, how=\"left\", on=[\"REV_CENTER\"])\n",
        "# Only taking these columns\n",
        "rc_sales_df = rc_sales_df[['DATE', 'BILL_NO', 'REV_CENTER', 'RC_NAME', 'RECEIVED', 'TAXES']]\n",
        "rc_sales_df.head(10)"
      ],
      "execution_count": null,
      "outputs": []
    },
    {
      "cell_type": "markdown",
      "metadata": {
        "id": "rce86r-Yu2pt"
      },
      "source": [
        "## PDF Reports\n",
        "### I. Sales by Group\n",
        "FIXME"
      ]
    },
    {
      "cell_type": "code",
      "metadata": {
        "id": "L3gzH34HvNn5"
      },
      "source": [
        "pdf_group_df = rc_sales_df.groupby([\"REV_CENTER\", \"RC_NAME\"]).agg(\n",
        "    Trans=pd.NamedAgg(column=\"REV_CENTER\", aggfunc=\"count\"),\n",
        "    Cust=pd.NamedAgg(column=\"REV_CENTER\", aggfunc=\"count\"),\n",
        "    Sales=pd.NamedAgg(column=\"RECEIVED\", aggfunc=\"sum\"),\n",
        "    Taxes=pd.NamedAgg(column=\"TAXES\", aggfunc=\"sum\"))\n",
        "pdf_group_df['Total'] = pdf_rc_df['Taxes'] + pdf_rc_df['Sales']\n",
        "pdf_group_df['Trans Average'] = pdf_rc_df['Sales'] / pdf_rc_df['Trans']\n",
        "pdf_group_df['Customer Average'] = pdf_rc_df['Sales'] / pdf_rc_df['Cust']\n",
        "\n",
        "pdf_group_df"
      ],
      "execution_count": null,
      "outputs": []
    },
    {
      "cell_type": "markdown",
      "metadata": {
        "id": "p0U8CSr3vKYi"
      },
      "source": [
        "### II. Sales by Revenue Center"
      ]
    },
    {
      "cell_type": "code",
      "metadata": {
        "id": "4PnCVJ0zqVRH"
      },
      "source": [
        "pdf_rc_df = rc_sales_df.groupby([\"REV_CENTER\", \"RC_NAME\"]).agg(\n",
        "    Trans=pd.NamedAgg(column=\"REV_CENTER\", aggfunc=\"count\"),\n",
        "    Cust=pd.NamedAgg(column=\"REV_CENTER\", aggfunc=\"count\"),\n",
        "    Sales=pd.NamedAgg(column=\"RECEIVED\", aggfunc=\"sum\"),\n",
        "    Taxes=pd.NamedAgg(column=\"TAXES\", aggfunc=\"sum\"))\n",
        "pdf_rc_df['Total'] = pdf_rc_df['Taxes'] + pdf_rc_df['Sales']\n",
        "pdf_rc_df['Trans Average'] = pdf_rc_df['Sales'] / pdf_rc_df['Trans']\n",
        "pdf_rc_df['Customer Average'] = pdf_rc_df['Sales'] / pdf_rc_df['Cust']\n",
        "\n",
        "pdf_rc_df"
      ],
      "execution_count": null,
      "outputs": []
    },
    {
      "cell_type": "markdown",
      "metadata": {
        "id": "uCLKYSsQ5rPe"
      },
      "source": [
        "## VLOOKUP"
      ]
    },
    {
      "cell_type": "code",
      "metadata": {
        "id": "E8J5ovazt56T"
      },
      "source": [
        "# \n"
      ],
      "execution_count": null,
      "outputs": []
    }
  ]
}